{
 "cells": [
  {
   "cell_type": "markdown",
   "id": "d78243a1",
   "metadata": {},
   "source": [
    "#  Class 2\n",
    "\n",
    "* Help\n",
    "    * help function\n",
    "    * function?\n",
    "    * function??\n",
    "    * ?function\n",
    "    * ??function\n",
    "* print\n",
    "    * value\n",
    "    * sep\n",
    "    * end\n",
    "* variable\n",
    "    * with print\n"
   ]
  },
  {
   "cell_type": "code",
   "execution_count": 13,
   "id": "023c6bd7",
   "metadata": {},
   "outputs": [
    {
     "name": "stdout",
     "output_type": "stream",
     "text": [
      "0 1\n",
      "1 2\n",
      "2 3\n",
      "3 4\n",
      "4 5\n"
     ]
    }
   ],
   "source": [
    "a = [1,2,3,4,5]\n",
    "for i,j in enumerate(a):\n",
    "    print(i,j)"
   ]
  },
  {
   "cell_type": "code",
   "execution_count": 19,
   "id": "1f6acdcc",
   "metadata": {},
   "outputs": [
    {
     "name": "stdout",
     "output_type": "stream",
     "text": [
      "A>>A>>A>>"
     ]
    }
   ],
   "source": [
    "print(\"A\", end = \">>\")\n",
    "print(\"A\", end = \">>\")\n",
    "print(\"A\", end = \">>\")\n"
   ]
  },
  {
   "cell_type": "code",
   "execution_count": null,
   "id": "6c48bc42",
   "metadata": {},
   "outputs": [],
   "source": []
  }
 ],
 "metadata": {
  "kernelspec": {
   "display_name": "Python 3 (ipykernel)",
   "language": "python",
   "name": "python3"
  },
  "language_info": {
   "codemirror_mode": {
    "name": "ipython",
    "version": 3
   },
   "file_extension": ".py",
   "mimetype": "text/x-python",
   "name": "python",
   "nbconvert_exporter": "python",
   "pygments_lexer": "ipython3",
   "version": "3.9.13"
  }
 },
 "nbformat": 4,
 "nbformat_minor": 5
}
